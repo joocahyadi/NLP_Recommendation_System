{
  "nbformat": 4,
  "nbformat_minor": 0,
  "metadata": {
    "colab": {
      "name": "NLP - Recommendation System.ipynb",
      "provenance": [],
      "authorship_tag": "ABX9TyN6+hikDjij6jNvtt4aQHHP"
    },
    "kernelspec": {
      "name": "python3",
      "display_name": "Python 3"
    },
    "language_info": {
      "name": "python"
    }
  },
  "cells": [
    {
      "cell_type": "markdown",
      "source": [
        "# Importing Libraries"
      ],
      "metadata": {
        "id": "PD80FZPCnErD"
      }
    },
    {
      "cell_type": "markdown",
      "source": [
        "First of all, let's import all the libraries that we're going to use"
      ],
      "metadata": {
        "id": "fc1jkiSaoBG_"
      }
    },
    {
      "cell_type": "code",
      "source": [
        "import pandas as pd\n",
        "import numpy as np\n",
        "import spacy\n",
        "from sklearn.feature_extraction.text import TfidfVectorizer\n",
        "from sklearn.decomposition import NMF\n",
        "from sklearn.preprocessing import normalize"
      ],
      "metadata": {
        "id": "on2Iy3zunDU4"
      },
      "execution_count": 41,
      "outputs": []
    },
    {
      "cell_type": "code",
      "execution_count": 42,
      "metadata": {
        "colab": {
          "base_uri": "https://localhost:8080/"
        },
        "id": "pgesxE1hmn0V",
        "outputId": "bddd2998-afe3-45f6-ae9e-cf03f05f15cc"
      },
      "outputs": [
        {
          "output_type": "stream",
          "name": "stdout",
          "text": [
            "Drive already mounted at /content/drive; to attempt to forcibly remount, call drive.mount(\"/content/drive\", force_remount=True).\n"
          ]
        }
      ],
      "source": [
        "from google.colab import drive\n",
        "drive.mount('/content/drive')"
      ]
    },
    {
      "cell_type": "markdown",
      "source": [
        "# Importing Dataset"
      ],
      "metadata": {
        "id": "L4oONLaZnhtk"
      }
    },
    {
      "cell_type": "code",
      "source": [
        "data = pd.read_csv('/content/drive/MyDrive/Data Science Projects/NLP - Recommendation System/CNN_Articels_clean.csv')"
      ],
      "metadata": {
        "id": "3bkJQT1ZnhS0"
      },
      "execution_count": 43,
      "outputs": []
    },
    {
      "cell_type": "markdown",
      "source": [
        "We're going to use only the \"Article text\" column for this project"
      ],
      "metadata": {
        "id": "VBa_0imEpYHp"
      }
    },
    {
      "cell_type": "code",
      "source": [
        "data = data[['Article text']]"
      ],
      "metadata": {
        "id": "oY-6kq2WoQDK"
      },
      "execution_count": 44,
      "outputs": []
    },
    {
      "cell_type": "code",
      "source": [
        "data.head()"
      ],
      "metadata": {
        "colab": {
          "base_uri": "https://localhost:8080/",
          "height": 206
        },
        "id": "W77LC544nWp7",
        "outputId": "0159c8dd-ae01-458c-81da-742116d44326"
      },
      "execution_count": 45,
      "outputs": [
        {
          "output_type": "execute_result",
          "data": {
            "text/plain": [
              "                                        Article text\n",
              "0   (CNN)Right now, there's a shortage of truck d...\n",
              "1   (CNN)Working in a factory or warehouse can me...\n",
              "2   (CNN)In a Hong Kong warehouse, a swarm of aut...\n",
              "3  New York (CNN Business)For many years, the wor...\n",
              "4  The European Union formally approved on Tuesda..."
            ],
            "text/html": [
              "\n",
              "  <div id=\"df-23071988-525d-4e82-8298-68d26e0b70b7\">\n",
              "    <div class=\"colab-df-container\">\n",
              "      <div>\n",
              "<style scoped>\n",
              "    .dataframe tbody tr th:only-of-type {\n",
              "        vertical-align: middle;\n",
              "    }\n",
              "\n",
              "    .dataframe tbody tr th {\n",
              "        vertical-align: top;\n",
              "    }\n",
              "\n",
              "    .dataframe thead th {\n",
              "        text-align: right;\n",
              "    }\n",
              "</style>\n",
              "<table border=\"1\" class=\"dataframe\">\n",
              "  <thead>\n",
              "    <tr style=\"text-align: right;\">\n",
              "      <th></th>\n",
              "      <th>Article text</th>\n",
              "    </tr>\n",
              "  </thead>\n",
              "  <tbody>\n",
              "    <tr>\n",
              "      <th>0</th>\n",
              "      <td>(CNN)Right now, there's a shortage of truck d...</td>\n",
              "    </tr>\n",
              "    <tr>\n",
              "      <th>1</th>\n",
              "      <td>(CNN)Working in a factory or warehouse can me...</td>\n",
              "    </tr>\n",
              "    <tr>\n",
              "      <th>2</th>\n",
              "      <td>(CNN)In a Hong Kong warehouse, a swarm of aut...</td>\n",
              "    </tr>\n",
              "    <tr>\n",
              "      <th>3</th>\n",
              "      <td>New York (CNN Business)For many years, the wor...</td>\n",
              "    </tr>\n",
              "    <tr>\n",
              "      <th>4</th>\n",
              "      <td>The European Union formally approved on Tuesda...</td>\n",
              "    </tr>\n",
              "  </tbody>\n",
              "</table>\n",
              "</div>\n",
              "      <button class=\"colab-df-convert\" onclick=\"convertToInteractive('df-23071988-525d-4e82-8298-68d26e0b70b7')\"\n",
              "              title=\"Convert this dataframe to an interactive table.\"\n",
              "              style=\"display:none;\">\n",
              "        \n",
              "  <svg xmlns=\"http://www.w3.org/2000/svg\" height=\"24px\"viewBox=\"0 0 24 24\"\n",
              "       width=\"24px\">\n",
              "    <path d=\"M0 0h24v24H0V0z\" fill=\"none\"/>\n",
              "    <path d=\"M18.56 5.44l.94 2.06.94-2.06 2.06-.94-2.06-.94-.94-2.06-.94 2.06-2.06.94zm-11 1L8.5 8.5l.94-2.06 2.06-.94-2.06-.94L8.5 2.5l-.94 2.06-2.06.94zm10 10l.94 2.06.94-2.06 2.06-.94-2.06-.94-.94-2.06-.94 2.06-2.06.94z\"/><path d=\"M17.41 7.96l-1.37-1.37c-.4-.4-.92-.59-1.43-.59-.52 0-1.04.2-1.43.59L10.3 9.45l-7.72 7.72c-.78.78-.78 2.05 0 2.83L4 21.41c.39.39.9.59 1.41.59.51 0 1.02-.2 1.41-.59l7.78-7.78 2.81-2.81c.8-.78.8-2.07 0-2.86zM5.41 20L4 18.59l7.72-7.72 1.47 1.35L5.41 20z\"/>\n",
              "  </svg>\n",
              "      </button>\n",
              "      \n",
              "  <style>\n",
              "    .colab-df-container {\n",
              "      display:flex;\n",
              "      flex-wrap:wrap;\n",
              "      gap: 12px;\n",
              "    }\n",
              "\n",
              "    .colab-df-convert {\n",
              "      background-color: #E8F0FE;\n",
              "      border: none;\n",
              "      border-radius: 50%;\n",
              "      cursor: pointer;\n",
              "      display: none;\n",
              "      fill: #1967D2;\n",
              "      height: 32px;\n",
              "      padding: 0 0 0 0;\n",
              "      width: 32px;\n",
              "    }\n",
              "\n",
              "    .colab-df-convert:hover {\n",
              "      background-color: #E2EBFA;\n",
              "      box-shadow: 0px 1px 2px rgba(60, 64, 67, 0.3), 0px 1px 3px 1px rgba(60, 64, 67, 0.15);\n",
              "      fill: #174EA6;\n",
              "    }\n",
              "\n",
              "    [theme=dark] .colab-df-convert {\n",
              "      background-color: #3B4455;\n",
              "      fill: #D2E3FC;\n",
              "    }\n",
              "\n",
              "    [theme=dark] .colab-df-convert:hover {\n",
              "      background-color: #434B5C;\n",
              "      box-shadow: 0px 1px 3px 1px rgba(0, 0, 0, 0.15);\n",
              "      filter: drop-shadow(0px 1px 2px rgba(0, 0, 0, 0.3));\n",
              "      fill: #FFFFFF;\n",
              "    }\n",
              "  </style>\n",
              "\n",
              "      <script>\n",
              "        const buttonEl =\n",
              "          document.querySelector('#df-23071988-525d-4e82-8298-68d26e0b70b7 button.colab-df-convert');\n",
              "        buttonEl.style.display =\n",
              "          google.colab.kernel.accessAllowed ? 'block' : 'none';\n",
              "\n",
              "        async function convertToInteractive(key) {\n",
              "          const element = document.querySelector('#df-23071988-525d-4e82-8298-68d26e0b70b7');\n",
              "          const dataTable =\n",
              "            await google.colab.kernel.invokeFunction('convertToInteractive',\n",
              "                                                     [key], {});\n",
              "          if (!dataTable) return;\n",
              "\n",
              "          const docLinkHtml = 'Like what you see? Visit the ' +\n",
              "            '<a target=\"_blank\" href=https://colab.research.google.com/notebooks/data_table.ipynb>data table notebook</a>'\n",
              "            + ' to learn more about interactive tables.';\n",
              "          element.innerHTML = '';\n",
              "          dataTable['output_type'] = 'display_data';\n",
              "          await google.colab.output.renderOutput(dataTable, element);\n",
              "          const docLink = document.createElement('div');\n",
              "          docLink.innerHTML = docLinkHtml;\n",
              "          element.appendChild(docLink);\n",
              "        }\n",
              "      </script>\n",
              "    </div>\n",
              "  </div>\n",
              "  "
            ]
          },
          "metadata": {},
          "execution_count": 45
        }
      ]
    },
    {
      "cell_type": "code",
      "source": [
        "# Check the length of the dataset\n",
        "len(data)"
      ],
      "metadata": {
        "colab": {
          "base_uri": "https://localhost:8080/"
        },
        "id": "zxl5gPcBpTUl",
        "outputId": "ad532401-b471-47dd-c14c-e14602c2620e"
      },
      "execution_count": 46,
      "outputs": [
        {
          "output_type": "execute_result",
          "data": {
            "text/plain": [
              "4076"
            ]
          },
          "metadata": {},
          "execution_count": 46
        }
      ]
    },
    {
      "cell_type": "markdown",
      "source": [
        "Let's take a look at 1 random example of the article text"
      ],
      "metadata": {
        "id": "2tRUXnXOqWkp"
      }
    },
    {
      "cell_type": "code",
      "source": [
        "data.sample(5).iloc[0]['Article text']"
      ],
      "metadata": {
        "colab": {
          "base_uri": "https://localhost:8080/",
          "height": 126
        },
        "id": "tw7THN6QoFE_",
        "outputId": "0988ef08-5c60-4166-be9e-332ebb5f19d2"
      },
      "execution_count": 47,
      "outputs": [
        {
          "output_type": "execute_result",
          "data": {
            "text/plain": [
              "' (CNN)It\\'s the biggest football match in 10 years between two fierce rivals, but Japan\\'s meeting with South Korea appears to be sparking more concern than excitement. Any sporting event between the two countries always has an additional competitive edge given the historical tensions between South Korea and Japan. South Korea fans describe the clash as an historical rivalry, while Japan\\'s national team coach Moriyasu Hajime also acknowledged many people consider it as a \"special match,\" according to JFA news release. Last time the two faced off in an international friendly match in 2011, Japan won 3-0 on home soil.Since then, the rivals have met four times at the East Asian Football Federation Championship, with South Korea winning two of those matches, Japan one of them, with the other game drawn. Read MoreThe South Korean national team is now in Yokohama, Japan, for Thursday\\'s friendly match. However, some South Korean fans have called for the game to be canceled due to concerns over the team\\'s safety traveling amidst of a global Covid-19 pandemic. READ: \\'A dark cloud has developed inside of me\\': Fiorentina coach Cesare Prandelli steps down due to \\'profound distress\\'Japan celebrate reaching the final of the Asian Cup 2011 after defeating South Korea 3-0 in a penalty shoot out.Frightening precedent concerns fans When KFA announced the fixture on its Instagram feed earlier this month, comments flooded in, criticizing the association\\'s decision to host the match. \"When we say don\\'t do it, just don\\'t do it, please,\" one user commented.Fans referred to last November when the South Korean national team traveled to Austria for friendlies, where seven players contracted coronavirus despite complying with the Covid-19 regulations implemented to prevent the spread. Korean football fan Kim Tae-yeon said: \"After the trip to Austria, K League clubs were strategically impacted as national players couldn\\'t participate in the Asia Champions League (ACL) due to Covid-19 infection.\"  Ulsan Hyundai FC was forced to compete in the 2020 ACL without its first-choice goalkeeper Jo Hyun-woo, the keeper that shocked football fans at the 2018 Brazil World Cup with his superb performance, as he psychologically suffered from Covid-19\\'s aftereffects, though the Korean team still managed to win the title. Kim said the precedent makes him more nervous about the team\\'s trip to Japan. \"The Covid-19 situation in Japan doesn\\'t look good, and there are infected J League players as well.\" The Japanese Football Association on March 22 confirmed that coach Toshihide Saito had tested positive before linking up with the rest of the squad, but the hotly anticipated match will go ahead as scheduled as there are no close contacts and additional infections within the squad. According to the Johns Hopkins University School of Medicine, Japan has had 458,621 Covid-19 cases and had 8,908 deaths  from coronavirus.Jo Hyun-woo makes a save in the 2018 FIFA World Cup match against Sweden.Rivalry welcomes 10,000 spectators Sporting events have been held behind closed doors or with limited capacity as the Covid-19 pandemic continues to rage on. But the JFA announced that it will sell additional tickets to total 10,000 for Thursday\\'s derby match, following the Japanese government\\'s decision to lift the Covid-19 state of emergency in the Kanagawa prefecture on March 22.Korean football fan Cho Min-sang criticized the JFA\\'s decisio\"I think letting 10,000 spectators is a decision ignoring all the efforts made around the world as people are being considerate of each other\\'s safety and making efforts to enjoy the game at the stadium,\" he said. Woo-young Jung and Dujae Won clash with Raul Jimenez of Mexico.Both Kim and Cho compared spectator capacity to the K League, the South Korean professional soccer league. The  K League only welcomes 10% of stadium capacity in Seoul Metropolitan area and 20% in the rest of the nation while away fans are banned to minimize infection risk from traveling. \"I\\'m concerned for the players, spectators and locals\\' health,\" Cho said. JFA is requiring spectators to comply with its guidelines and prohibited acts on matchday.Fans must scan QR codes, physically distance, wear masks, check temperatures and wash hands. Chanting, physical contact with others and waving flags or scarves is prohibited and, while eating and drinking is allowed, fans must immediately put their masks back on. South Korea saw 428 new cases from Tuesday, while Japan reported 1,491 cases on Tuesday, according to Korea Disease Control and Prevention Agency and Japan\\'s Health, Labour and Welfare Ministry.Members of Japan\\'s national football team train in Yokohama.Petition Despite some fans\\' skepticism over the match, South Korean national team manager Paulo Bento says that this is \"the only opportunity\" to check the team\\'s performance ahead of the second round of World Cup qualifiers in June. However, in a petition to the South Korean President\\'s residence Blue House, the petitioner called for the match to be stopped, saying: \"It seems like Japan\\'s trying to promote that they can properly hold the Olympics by hosting the match.\" Japan has faced a number of hurdles in hosting the Olympic Games with the ongoing Covid-19 complications, high-level officials resigning and the Organising Committee\\'s decision not to allow international spectators. The KFA\\'s Medical Committee outlined Covid-19 guidelines for its team to abide by during its trip to Japan. Individuals had to wear a mask and a transparent face shield as they flew to Narita Airport on Monday. The KFA also said players will have to get a test every morning in order to attend training, and those with flu or unusual symptoms will be quarantined immediately. The JFA\\'s protocol keeps the teams in a bubble to avoid outside contact, according to its news release. Korea players celebrate after defeating Japan during the men\\'s bronze medal play-off match between Korea and Japan at the London 2012 Olympics.Upon returning from Japan, 16 drafted K League players will go into cohort quarantine at the Paju National Football Center for seven days. The KFA said it has coordinated with the Korean government to allow K League players to play league games while limiting their travels only to their house, team facilities and stadiums for another seven days. The K League resumes on April 2. Some Korean fans are also upset that 16 K league players traveling to Japan could be physically exhausted from the trip and quarantine. \"K League has tight schedule because the ACL and World Cup qualifiers have been postponed,\" FC Seoul fan Kim explained. \"I\\'m worried that if a drafted player gets infected, it\\'d be a huge loss for the club.\" Visit CNN.com/sport for more news, features, and videosSouth Korean national soccer team players take part in a training session in Yokohama.Fans, however, agree with the necessity of quarantining as their concerns over the match is all about the team\\'s safety while they root for the team\\'s victory in the rivalry.\"Since the team\\'s already there [in Japan], I hope they win and come back safely,\" one commented on KFA Instagram.\"I sincerely hope that no one gets injured or infected,\" Cho said.'"
            ],
            "application/vnd.google.colaboratory.intrinsic+json": {
              "type": "string"
            }
          },
          "metadata": {},
          "execution_count": 47
        }
      ]
    },
    {
      "cell_type": "markdown",
      "source": [
        "# Checking if the Data Have Null Value"
      ],
      "metadata": {
        "id": "gCQCfJWQqlps"
      }
    },
    {
      "cell_type": "markdown",
      "source": [
        "Let's consider 2 types of null values: nan/null and blank entries"
      ],
      "metadata": {
        "id": "XKPeRtamICd2"
      }
    },
    {
      "cell_type": "code",
      "source": [
        "# For the null value\n",
        "data.isnull().sum()"
      ],
      "metadata": {
        "colab": {
          "base_uri": "https://localhost:8080/"
        },
        "id": "r9XvZz79qqK6",
        "outputId": "03e28f59-3ec3-4f11-ede2-ef2164a9f300"
      },
      "execution_count": 48,
      "outputs": [
        {
          "output_type": "execute_result",
          "data": {
            "text/plain": [
              "Article text    0\n",
              "dtype: int64"
            ]
          },
          "metadata": {},
          "execution_count": 48
        }
      ]
    },
    {
      "cell_type": "code",
      "source": [
        "# For the blank entries\n",
        "blanks = []\n",
        "\n",
        "for i, text in data.itertuples():\n",
        "  if type(text) == 'str':\n",
        "    if text.isspace():\n",
        "      blanks.append(i)\n",
        "\n",
        "blanks"
      ],
      "metadata": {
        "id": "R_zFFOWfqtKR",
        "colab": {
          "base_uri": "https://localhost:8080/"
        },
        "outputId": "facdb61e-d3c2-45da-9d0d-90fdf2727567"
      },
      "execution_count": 49,
      "outputs": [
        {
          "output_type": "execute_result",
          "data": {
            "text/plain": [
              "[]"
            ]
          },
          "metadata": {},
          "execution_count": 49
        }
      ]
    },
    {
      "cell_type": "markdown",
      "source": [
        "We can conclude that there isn't any null values in the text (in other words, there isn't any empty text)"
      ],
      "metadata": {
        "id": "vdGBqIa6IbS0"
      }
    },
    {
      "cell_type": "markdown",
      "source": [
        "# Text Preprocessing"
      ],
      "metadata": {
        "id": "XTaLjPEcqgbT"
      }
    },
    {
      "cell_type": "markdown",
      "source": [
        "We're going to use Spacy for text preprocessing. \n",
        "\n",
        "First, Let's load the \"en_core_web_sm\" model."
      ],
      "metadata": {
        "id": "kHSufV50I1od"
      }
    },
    {
      "cell_type": "code",
      "source": [
        "nlp = spacy.load('en_core_web_sm')"
      ],
      "metadata": {
        "id": "_7vrmrC8oqAL"
      },
      "execution_count": 50,
      "outputs": []
    },
    {
      "cell_type": "markdown",
      "source": [
        "Let's apply the nlp model to create Spacy doc for each text"
      ],
      "metadata": {
        "id": "C55XrLTrLvxK"
      }
    },
    {
      "cell_type": "code",
      "source": [
        "data['Lemmatized Article Text'] = data['Article text'].apply(nlp)"
      ],
      "metadata": {
        "id": "I4H5gfMS7ZyI"
      },
      "execution_count": 51,
      "outputs": []
    },
    {
      "cell_type": "code",
      "source": [
        "data.head()"
      ],
      "metadata": {
        "id": "Wk81ifIP8rvC",
        "colab": {
          "base_uri": "https://localhost:8080/",
          "height": 0
        },
        "outputId": "c765d593-74e7-482b-bfc2-7fb5051a3593"
      },
      "execution_count": 52,
      "outputs": [
        {
          "output_type": "execute_result",
          "data": {
            "text/plain": [
              "                                        Article text  \\\n",
              "0   (CNN)Right now, there's a shortage of truck d...   \n",
              "1   (CNN)Working in a factory or warehouse can me...   \n",
              "2   (CNN)In a Hong Kong warehouse, a swarm of aut...   \n",
              "3  New York (CNN Business)For many years, the wor...   \n",
              "4  The European Union formally approved on Tuesda...   \n",
              "\n",
              "                             Lemmatized Article Text  \n",
              "0  ( , (, CNN)Right, now, ,, there, 's, a, shorta...  \n",
              "1  ( , (, CNN)Working, in, a, factory, or, wareho...  \n",
              "2  ( , (, CNN)In, a, Hong, Kong, warehouse, ,, a,...  \n",
              "3  (New, York, (, CNN, Business)For, many, years,...  \n",
              "4  (The, European, Union, formally, approved, on,...  "
            ],
            "text/html": [
              "\n",
              "  <div id=\"df-df777dda-76f7-469d-b792-7a4d06f03568\">\n",
              "    <div class=\"colab-df-container\">\n",
              "      <div>\n",
              "<style scoped>\n",
              "    .dataframe tbody tr th:only-of-type {\n",
              "        vertical-align: middle;\n",
              "    }\n",
              "\n",
              "    .dataframe tbody tr th {\n",
              "        vertical-align: top;\n",
              "    }\n",
              "\n",
              "    .dataframe thead th {\n",
              "        text-align: right;\n",
              "    }\n",
              "</style>\n",
              "<table border=\"1\" class=\"dataframe\">\n",
              "  <thead>\n",
              "    <tr style=\"text-align: right;\">\n",
              "      <th></th>\n",
              "      <th>Article text</th>\n",
              "      <th>Lemmatized Article Text</th>\n",
              "    </tr>\n",
              "  </thead>\n",
              "  <tbody>\n",
              "    <tr>\n",
              "      <th>0</th>\n",
              "      <td>(CNN)Right now, there's a shortage of truck d...</td>\n",
              "      <td>( , (, CNN)Right, now, ,, there, 's, a, shorta...</td>\n",
              "    </tr>\n",
              "    <tr>\n",
              "      <th>1</th>\n",
              "      <td>(CNN)Working in a factory or warehouse can me...</td>\n",
              "      <td>( , (, CNN)Working, in, a, factory, or, wareho...</td>\n",
              "    </tr>\n",
              "    <tr>\n",
              "      <th>2</th>\n",
              "      <td>(CNN)In a Hong Kong warehouse, a swarm of aut...</td>\n",
              "      <td>( , (, CNN)In, a, Hong, Kong, warehouse, ,, a,...</td>\n",
              "    </tr>\n",
              "    <tr>\n",
              "      <th>3</th>\n",
              "      <td>New York (CNN Business)For many years, the wor...</td>\n",
              "      <td>(New, York, (, CNN, Business)For, many, years,...</td>\n",
              "    </tr>\n",
              "    <tr>\n",
              "      <th>4</th>\n",
              "      <td>The European Union formally approved on Tuesda...</td>\n",
              "      <td>(The, European, Union, formally, approved, on,...</td>\n",
              "    </tr>\n",
              "  </tbody>\n",
              "</table>\n",
              "</div>\n",
              "      <button class=\"colab-df-convert\" onclick=\"convertToInteractive('df-df777dda-76f7-469d-b792-7a4d06f03568')\"\n",
              "              title=\"Convert this dataframe to an interactive table.\"\n",
              "              style=\"display:none;\">\n",
              "        \n",
              "  <svg xmlns=\"http://www.w3.org/2000/svg\" height=\"24px\"viewBox=\"0 0 24 24\"\n",
              "       width=\"24px\">\n",
              "    <path d=\"M0 0h24v24H0V0z\" fill=\"none\"/>\n",
              "    <path d=\"M18.56 5.44l.94 2.06.94-2.06 2.06-.94-2.06-.94-.94-2.06-.94 2.06-2.06.94zm-11 1L8.5 8.5l.94-2.06 2.06-.94-2.06-.94L8.5 2.5l-.94 2.06-2.06.94zm10 10l.94 2.06.94-2.06 2.06-.94-2.06-.94-.94-2.06-.94 2.06-2.06.94z\"/><path d=\"M17.41 7.96l-1.37-1.37c-.4-.4-.92-.59-1.43-.59-.52 0-1.04.2-1.43.59L10.3 9.45l-7.72 7.72c-.78.78-.78 2.05 0 2.83L4 21.41c.39.39.9.59 1.41.59.51 0 1.02-.2 1.41-.59l7.78-7.78 2.81-2.81c.8-.78.8-2.07 0-2.86zM5.41 20L4 18.59l7.72-7.72 1.47 1.35L5.41 20z\"/>\n",
              "  </svg>\n",
              "      </button>\n",
              "      \n",
              "  <style>\n",
              "    .colab-df-container {\n",
              "      display:flex;\n",
              "      flex-wrap:wrap;\n",
              "      gap: 12px;\n",
              "    }\n",
              "\n",
              "    .colab-df-convert {\n",
              "      background-color: #E8F0FE;\n",
              "      border: none;\n",
              "      border-radius: 50%;\n",
              "      cursor: pointer;\n",
              "      display: none;\n",
              "      fill: #1967D2;\n",
              "      height: 32px;\n",
              "      padding: 0 0 0 0;\n",
              "      width: 32px;\n",
              "    }\n",
              "\n",
              "    .colab-df-convert:hover {\n",
              "      background-color: #E2EBFA;\n",
              "      box-shadow: 0px 1px 2px rgba(60, 64, 67, 0.3), 0px 1px 3px 1px rgba(60, 64, 67, 0.15);\n",
              "      fill: #174EA6;\n",
              "    }\n",
              "\n",
              "    [theme=dark] .colab-df-convert {\n",
              "      background-color: #3B4455;\n",
              "      fill: #D2E3FC;\n",
              "    }\n",
              "\n",
              "    [theme=dark] .colab-df-convert:hover {\n",
              "      background-color: #434B5C;\n",
              "      box-shadow: 0px 1px 3px 1px rgba(0, 0, 0, 0.15);\n",
              "      filter: drop-shadow(0px 1px 2px rgba(0, 0, 0, 0.3));\n",
              "      fill: #FFFFFF;\n",
              "    }\n",
              "  </style>\n",
              "\n",
              "      <script>\n",
              "        const buttonEl =\n",
              "          document.querySelector('#df-df777dda-76f7-469d-b792-7a4d06f03568 button.colab-df-convert');\n",
              "        buttonEl.style.display =\n",
              "          google.colab.kernel.accessAllowed ? 'block' : 'none';\n",
              "\n",
              "        async function convertToInteractive(key) {\n",
              "          const element = document.querySelector('#df-df777dda-76f7-469d-b792-7a4d06f03568');\n",
              "          const dataTable =\n",
              "            await google.colab.kernel.invokeFunction('convertToInteractive',\n",
              "                                                     [key], {});\n",
              "          if (!dataTable) return;\n",
              "\n",
              "          const docLinkHtml = 'Like what you see? Visit the ' +\n",
              "            '<a target=\"_blank\" href=https://colab.research.google.com/notebooks/data_table.ipynb>data table notebook</a>'\n",
              "            + ' to learn more about interactive tables.';\n",
              "          element.innerHTML = '';\n",
              "          dataTable['output_type'] = 'display_data';\n",
              "          await google.colab.output.renderOutput(dataTable, element);\n",
              "          const docLink = document.createElement('div');\n",
              "          docLink.innerHTML = docLinkHtml;\n",
              "          element.appendChild(docLink);\n",
              "        }\n",
              "      </script>\n",
              "    </div>\n",
              "  </div>\n",
              "  "
            ]
          },
          "metadata": {},
          "execution_count": 52
        }
      ]
    },
    {
      "cell_type": "markdown",
      "source": [
        "Create the preprocess function to remove stop words and punctuations. Also, to lemmatize each word in all texts."
      ],
      "metadata": {
        "id": "DNEhvo7z1dmr"
      }
    },
    {
      "cell_type": "code",
      "source": [
        "def preprocess(text):\n",
        "  # Remove punctuation\n",
        "  tokens_no_punct = [token for token in text if not token.is_punct]\n",
        "\n",
        "  # Remove stop words\n",
        "  tokens_no_punct_stop = [token for token in tokens_no_punct if not token.is_stop]\n",
        "\n",
        "  # Lemmatize each word \n",
        "  tokens_lemma = [token.lemma_ for token in tokens_no_punct_stop]\n",
        "\n",
        "  # Joining the tokens into text\n",
        "  text_lemma = ' '.join(token for token in tokens_lemma)\n",
        "\n",
        "  return text_lemma"
      ],
      "metadata": {
        "id": "5KXGzkDo0kYx"
      },
      "execution_count": 53,
      "outputs": []
    },
    {
      "cell_type": "markdown",
      "source": [
        "Apply the preprocess function to the \"Lemmatized Article Text\" column.\n",
        "\n",
        "In addition to applying the function, let's apply lower() function to lower every token (word)."
      ],
      "metadata": {
        "id": "82MDT9USRAH0"
      }
    },
    {
      "cell_type": "code",
      "source": [
        "data['Lemmatized Article Text'] = data['Lemmatized Article Text'].apply(preprocess)"
      ],
      "metadata": {
        "id": "Xtr-JTNq1LI2"
      },
      "execution_count": 54,
      "outputs": []
    },
    {
      "cell_type": "code",
      "source": [
        "data['Lemmatized Article Text'] = data['Lemmatized Article Text'].apply(lambda text: text.lower())"
      ],
      "metadata": {
        "id": "9iByYeOt3oyC"
      },
      "execution_count": 55,
      "outputs": []
    },
    {
      "cell_type": "markdown",
      "source": [
        "Here's the current overview of our dataset."
      ],
      "metadata": {
        "id": "tlzs-EhCRZhZ"
      }
    },
    {
      "cell_type": "code",
      "source": [
        "data.head()"
      ],
      "metadata": {
        "colab": {
          "base_uri": "https://localhost:8080/",
          "height": 0
        },
        "id": "bVZIvaGd03R9",
        "outputId": "472d8d70-ff37-4b32-dcc6-bbed8650ce1a"
      },
      "execution_count": 56,
      "outputs": [
        {
          "output_type": "execute_result",
          "data": {
            "text/plain": [
              "                                        Article text  \\\n",
              "0   (CNN)Right now, there's a shortage of truck d...   \n",
              "1   (CNN)Working in a factory or warehouse can me...   \n",
              "2   (CNN)In a Hong Kong warehouse, a swarm of aut...   \n",
              "3  New York (CNN Business)For many years, the wor...   \n",
              "4  The European Union formally approved on Tuesda...   \n",
              "\n",
              "                             Lemmatized Article Text  \n",
              "0    cnn)right shortage truck driver worldwide ex...  \n",
              "1    cnn)worke factory warehouse mean task repeti...  \n",
              "2    cnn)in hong kong warehouse swarm autonomous ...  \n",
              "3  new york cnn business)for year world popular e...  \n",
              "4  european union formally approve tuesday new ba...  "
            ],
            "text/html": [
              "\n",
              "  <div id=\"df-9f36f501-5830-4b93-8993-55fdccfa9317\">\n",
              "    <div class=\"colab-df-container\">\n",
              "      <div>\n",
              "<style scoped>\n",
              "    .dataframe tbody tr th:only-of-type {\n",
              "        vertical-align: middle;\n",
              "    }\n",
              "\n",
              "    .dataframe tbody tr th {\n",
              "        vertical-align: top;\n",
              "    }\n",
              "\n",
              "    .dataframe thead th {\n",
              "        text-align: right;\n",
              "    }\n",
              "</style>\n",
              "<table border=\"1\" class=\"dataframe\">\n",
              "  <thead>\n",
              "    <tr style=\"text-align: right;\">\n",
              "      <th></th>\n",
              "      <th>Article text</th>\n",
              "      <th>Lemmatized Article Text</th>\n",
              "    </tr>\n",
              "  </thead>\n",
              "  <tbody>\n",
              "    <tr>\n",
              "      <th>0</th>\n",
              "      <td>(CNN)Right now, there's a shortage of truck d...</td>\n",
              "      <td>cnn)right shortage truck driver worldwide ex...</td>\n",
              "    </tr>\n",
              "    <tr>\n",
              "      <th>1</th>\n",
              "      <td>(CNN)Working in a factory or warehouse can me...</td>\n",
              "      <td>cnn)worke factory warehouse mean task repeti...</td>\n",
              "    </tr>\n",
              "    <tr>\n",
              "      <th>2</th>\n",
              "      <td>(CNN)In a Hong Kong warehouse, a swarm of aut...</td>\n",
              "      <td>cnn)in hong kong warehouse swarm autonomous ...</td>\n",
              "    </tr>\n",
              "    <tr>\n",
              "      <th>3</th>\n",
              "      <td>New York (CNN Business)For many years, the wor...</td>\n",
              "      <td>new york cnn business)for year world popular e...</td>\n",
              "    </tr>\n",
              "    <tr>\n",
              "      <th>4</th>\n",
              "      <td>The European Union formally approved on Tuesda...</td>\n",
              "      <td>european union formally approve tuesday new ba...</td>\n",
              "    </tr>\n",
              "  </tbody>\n",
              "</table>\n",
              "</div>\n",
              "      <button class=\"colab-df-convert\" onclick=\"convertToInteractive('df-9f36f501-5830-4b93-8993-55fdccfa9317')\"\n",
              "              title=\"Convert this dataframe to an interactive table.\"\n",
              "              style=\"display:none;\">\n",
              "        \n",
              "  <svg xmlns=\"http://www.w3.org/2000/svg\" height=\"24px\"viewBox=\"0 0 24 24\"\n",
              "       width=\"24px\">\n",
              "    <path d=\"M0 0h24v24H0V0z\" fill=\"none\"/>\n",
              "    <path d=\"M18.56 5.44l.94 2.06.94-2.06 2.06-.94-2.06-.94-.94-2.06-.94 2.06-2.06.94zm-11 1L8.5 8.5l.94-2.06 2.06-.94-2.06-.94L8.5 2.5l-.94 2.06-2.06.94zm10 10l.94 2.06.94-2.06 2.06-.94-2.06-.94-.94-2.06-.94 2.06-2.06.94z\"/><path d=\"M17.41 7.96l-1.37-1.37c-.4-.4-.92-.59-1.43-.59-.52 0-1.04.2-1.43.59L10.3 9.45l-7.72 7.72c-.78.78-.78 2.05 0 2.83L4 21.41c.39.39.9.59 1.41.59.51 0 1.02-.2 1.41-.59l7.78-7.78 2.81-2.81c.8-.78.8-2.07 0-2.86zM5.41 20L4 18.59l7.72-7.72 1.47 1.35L5.41 20z\"/>\n",
              "  </svg>\n",
              "      </button>\n",
              "      \n",
              "  <style>\n",
              "    .colab-df-container {\n",
              "      display:flex;\n",
              "      flex-wrap:wrap;\n",
              "      gap: 12px;\n",
              "    }\n",
              "\n",
              "    .colab-df-convert {\n",
              "      background-color: #E8F0FE;\n",
              "      border: none;\n",
              "      border-radius: 50%;\n",
              "      cursor: pointer;\n",
              "      display: none;\n",
              "      fill: #1967D2;\n",
              "      height: 32px;\n",
              "      padding: 0 0 0 0;\n",
              "      width: 32px;\n",
              "    }\n",
              "\n",
              "    .colab-df-convert:hover {\n",
              "      background-color: #E2EBFA;\n",
              "      box-shadow: 0px 1px 2px rgba(60, 64, 67, 0.3), 0px 1px 3px 1px rgba(60, 64, 67, 0.15);\n",
              "      fill: #174EA6;\n",
              "    }\n",
              "\n",
              "    [theme=dark] .colab-df-convert {\n",
              "      background-color: #3B4455;\n",
              "      fill: #D2E3FC;\n",
              "    }\n",
              "\n",
              "    [theme=dark] .colab-df-convert:hover {\n",
              "      background-color: #434B5C;\n",
              "      box-shadow: 0px 1px 3px 1px rgba(0, 0, 0, 0.15);\n",
              "      filter: drop-shadow(0px 1px 2px rgba(0, 0, 0, 0.3));\n",
              "      fill: #FFFFFF;\n",
              "    }\n",
              "  </style>\n",
              "\n",
              "      <script>\n",
              "        const buttonEl =\n",
              "          document.querySelector('#df-9f36f501-5830-4b93-8993-55fdccfa9317 button.colab-df-convert');\n",
              "        buttonEl.style.display =\n",
              "          google.colab.kernel.accessAllowed ? 'block' : 'none';\n",
              "\n",
              "        async function convertToInteractive(key) {\n",
              "          const element = document.querySelector('#df-9f36f501-5830-4b93-8993-55fdccfa9317');\n",
              "          const dataTable =\n",
              "            await google.colab.kernel.invokeFunction('convertToInteractive',\n",
              "                                                     [key], {});\n",
              "          if (!dataTable) return;\n",
              "\n",
              "          const docLinkHtml = 'Like what you see? Visit the ' +\n",
              "            '<a target=\"_blank\" href=https://colab.research.google.com/notebooks/data_table.ipynb>data table notebook</a>'\n",
              "            + ' to learn more about interactive tables.';\n",
              "          element.innerHTML = '';\n",
              "          dataTable['output_type'] = 'display_data';\n",
              "          await google.colab.output.renderOutput(dataTable, element);\n",
              "          const docLink = document.createElement('div');\n",
              "          docLink.innerHTML = docLinkHtml;\n",
              "          element.appendChild(docLink);\n",
              "        }\n",
              "      </script>\n",
              "    </div>\n",
              "  </div>\n",
              "  "
            ]
          },
          "metadata": {},
          "execution_count": 56
        }
      ]
    },
    {
      "cell_type": "markdown",
      "source": [
        "Let's take a look at 5 random samples of the current dataset."
      ],
      "metadata": {
        "id": "tZHnQRVaRfwM"
      }
    },
    {
      "cell_type": "code",
      "source": [
        "data.sample(5)"
      ],
      "metadata": {
        "colab": {
          "base_uri": "https://localhost:8080/",
          "height": 0
        },
        "id": "GO-FkWqC1C67",
        "outputId": "a3026a60-c346-4d30-a63e-9d6dd0f15fa9"
      },
      "execution_count": 57,
      "outputs": [
        {
          "output_type": "execute_result",
          "data": {
            "text/plain": [
              "                                           Article text  \\\n",
              "1185   (CNN)Despite being at the center of controver...   \n",
              "3392   (CNN)Here's a look at the life of Gerry Adams...   \n",
              "447   \\nEditor's Note: CNN is committed to covering ...   \n",
              "2832   (CNN)If NBA players are not vaccinated, they ...   \n",
              "2290   (CNN)Amid spiking temperatures and humidity a...   \n",
              "\n",
              "                                Lemmatized Article Text  \n",
              "1185    cnn)despite center controversy embed ball pa...  \n",
              "3392    cnn)here look life gerry adams president sin...  \n",
              "447   \\n editor note cnn commit cover gender inequal...  \n",
              "2832    cnn)if nba player vaccinate team basketball ...  \n",
              "2290    cnn)amid spike temperature humidity tokyo ol...  "
            ],
            "text/html": [
              "\n",
              "  <div id=\"df-0cd7eb99-74d1-420f-9b5a-db353433e783\">\n",
              "    <div class=\"colab-df-container\">\n",
              "      <div>\n",
              "<style scoped>\n",
              "    .dataframe tbody tr th:only-of-type {\n",
              "        vertical-align: middle;\n",
              "    }\n",
              "\n",
              "    .dataframe tbody tr th {\n",
              "        vertical-align: top;\n",
              "    }\n",
              "\n",
              "    .dataframe thead th {\n",
              "        text-align: right;\n",
              "    }\n",
              "</style>\n",
              "<table border=\"1\" class=\"dataframe\">\n",
              "  <thead>\n",
              "    <tr style=\"text-align: right;\">\n",
              "      <th></th>\n",
              "      <th>Article text</th>\n",
              "      <th>Lemmatized Article Text</th>\n",
              "    </tr>\n",
              "  </thead>\n",
              "  <tbody>\n",
              "    <tr>\n",
              "      <th>1185</th>\n",
              "      <td>(CNN)Despite being at the center of controver...</td>\n",
              "      <td>cnn)despite center controversy embed ball pa...</td>\n",
              "    </tr>\n",
              "    <tr>\n",
              "      <th>3392</th>\n",
              "      <td>(CNN)Here's a look at the life of Gerry Adams...</td>\n",
              "      <td>cnn)here look life gerry adams president sin...</td>\n",
              "    </tr>\n",
              "    <tr>\n",
              "      <th>447</th>\n",
              "      <td>\\nEditor's Note: CNN is committed to covering ...</td>\n",
              "      <td>\\n editor note cnn commit cover gender inequal...</td>\n",
              "    </tr>\n",
              "    <tr>\n",
              "      <th>2832</th>\n",
              "      <td>(CNN)If NBA players are not vaccinated, they ...</td>\n",
              "      <td>cnn)if nba player vaccinate team basketball ...</td>\n",
              "    </tr>\n",
              "    <tr>\n",
              "      <th>2290</th>\n",
              "      <td>(CNN)Amid spiking temperatures and humidity a...</td>\n",
              "      <td>cnn)amid spike temperature humidity tokyo ol...</td>\n",
              "    </tr>\n",
              "  </tbody>\n",
              "</table>\n",
              "</div>\n",
              "      <button class=\"colab-df-convert\" onclick=\"convertToInteractive('df-0cd7eb99-74d1-420f-9b5a-db353433e783')\"\n",
              "              title=\"Convert this dataframe to an interactive table.\"\n",
              "              style=\"display:none;\">\n",
              "        \n",
              "  <svg xmlns=\"http://www.w3.org/2000/svg\" height=\"24px\"viewBox=\"0 0 24 24\"\n",
              "       width=\"24px\">\n",
              "    <path d=\"M0 0h24v24H0V0z\" fill=\"none\"/>\n",
              "    <path d=\"M18.56 5.44l.94 2.06.94-2.06 2.06-.94-2.06-.94-.94-2.06-.94 2.06-2.06.94zm-11 1L8.5 8.5l.94-2.06 2.06-.94-2.06-.94L8.5 2.5l-.94 2.06-2.06.94zm10 10l.94 2.06.94-2.06 2.06-.94-2.06-.94-.94-2.06-.94 2.06-2.06.94z\"/><path d=\"M17.41 7.96l-1.37-1.37c-.4-.4-.92-.59-1.43-.59-.52 0-1.04.2-1.43.59L10.3 9.45l-7.72 7.72c-.78.78-.78 2.05 0 2.83L4 21.41c.39.39.9.59 1.41.59.51 0 1.02-.2 1.41-.59l7.78-7.78 2.81-2.81c.8-.78.8-2.07 0-2.86zM5.41 20L4 18.59l7.72-7.72 1.47 1.35L5.41 20z\"/>\n",
              "  </svg>\n",
              "      </button>\n",
              "      \n",
              "  <style>\n",
              "    .colab-df-container {\n",
              "      display:flex;\n",
              "      flex-wrap:wrap;\n",
              "      gap: 12px;\n",
              "    }\n",
              "\n",
              "    .colab-df-convert {\n",
              "      background-color: #E8F0FE;\n",
              "      border: none;\n",
              "      border-radius: 50%;\n",
              "      cursor: pointer;\n",
              "      display: none;\n",
              "      fill: #1967D2;\n",
              "      height: 32px;\n",
              "      padding: 0 0 0 0;\n",
              "      width: 32px;\n",
              "    }\n",
              "\n",
              "    .colab-df-convert:hover {\n",
              "      background-color: #E2EBFA;\n",
              "      box-shadow: 0px 1px 2px rgba(60, 64, 67, 0.3), 0px 1px 3px 1px rgba(60, 64, 67, 0.15);\n",
              "      fill: #174EA6;\n",
              "    }\n",
              "\n",
              "    [theme=dark] .colab-df-convert {\n",
              "      background-color: #3B4455;\n",
              "      fill: #D2E3FC;\n",
              "    }\n",
              "\n",
              "    [theme=dark] .colab-df-convert:hover {\n",
              "      background-color: #434B5C;\n",
              "      box-shadow: 0px 1px 3px 1px rgba(0, 0, 0, 0.15);\n",
              "      filter: drop-shadow(0px 1px 2px rgba(0, 0, 0, 0.3));\n",
              "      fill: #FFFFFF;\n",
              "    }\n",
              "  </style>\n",
              "\n",
              "      <script>\n",
              "        const buttonEl =\n",
              "          document.querySelector('#df-0cd7eb99-74d1-420f-9b5a-db353433e783 button.colab-df-convert');\n",
              "        buttonEl.style.display =\n",
              "          google.colab.kernel.accessAllowed ? 'block' : 'none';\n",
              "\n",
              "        async function convertToInteractive(key) {\n",
              "          const element = document.querySelector('#df-0cd7eb99-74d1-420f-9b5a-db353433e783');\n",
              "          const dataTable =\n",
              "            await google.colab.kernel.invokeFunction('convertToInteractive',\n",
              "                                                     [key], {});\n",
              "          if (!dataTable) return;\n",
              "\n",
              "          const docLinkHtml = 'Like what you see? Visit the ' +\n",
              "            '<a target=\"_blank\" href=https://colab.research.google.com/notebooks/data_table.ipynb>data table notebook</a>'\n",
              "            + ' to learn more about interactive tables.';\n",
              "          element.innerHTML = '';\n",
              "          dataTable['output_type'] = 'display_data';\n",
              "          await google.colab.output.renderOutput(dataTable, element);\n",
              "          const docLink = document.createElement('div');\n",
              "          docLink.innerHTML = docLinkHtml;\n",
              "          element.appendChild(docLink);\n",
              "        }\n",
              "      </script>\n",
              "    </div>\n",
              "  </div>\n",
              "  "
            ]
          },
          "metadata": {},
          "execution_count": 57
        }
      ]
    },
    {
      "cell_type": "markdown",
      "source": [
        "# Building TF-IDF"
      ],
      "metadata": {
        "id": "SSVhvwnD32zJ"
      }
    },
    {
      "cell_type": "markdown",
      "source": [
        "After the preprocessing step was done, we're ready to create the recommender system.\n",
        "\n",
        "First, we need to vectorize each token (word). Here, I'm using the Term Frequency - Inverse Document Frequency (TF-IDF) method."
      ],
      "metadata": {
        "id": "yJt6YZE_Rngz"
      }
    },
    {
      "cell_type": "markdown",
      "source": [
        "I'm using the max_df and min_df arguments to filter the token (word) that appear too often (in more than 95% of total available texts) and too little (in only 1 text)."
      ],
      "metadata": {
        "id": "JPHhEn_EULXJ"
      }
    },
    {
      "cell_type": "code",
      "source": [
        "from sklearn.feature_extraction.text import TfidfVectorizer\n",
        "\n",
        "tfidf = TfidfVectorizer(max_df=0.95, min_df=2)\n",
        "dtm = tfidf.fit_transform(data['Lemmatized Article Text'])\n",
        "dtm"
      ],
      "metadata": {
        "id": "vG7EM4x9lhUB",
        "colab": {
          "base_uri": "https://localhost:8080/"
        },
        "outputId": "b7e928d6-ad6e-4ac7-c180-ee823eb7c5cb"
      },
      "execution_count": 58,
      "outputs": [
        {
          "output_type": "execute_result",
          "data": {
            "text/plain": [
              "<4076x29922 sparse matrix of type '<class 'numpy.float64'>'\n",
              "\twith 1071897 stored elements in Compressed Sparse Row format>"
            ]
          },
          "metadata": {},
          "execution_count": 58
        }
      ]
    },
    {
      "cell_type": "code",
      "source": [
        "#tfidf = TfidfVectorizer(max_df=0.95, min_df=2)"
      ],
      "metadata": {
        "id": "0_MNF_mW36G5"
      },
      "execution_count": 59,
      "outputs": []
    },
    {
      "cell_type": "code",
      "source": [
        "#dtm = tfidf.fit_transform(data['Lemmatized Article Text'])"
      ],
      "metadata": {
        "id": "zpGCC9Z45DTV"
      },
      "execution_count": 60,
      "outputs": []
    },
    {
      "cell_type": "code",
      "source": [
        "#dtm"
      ],
      "metadata": {
        "id": "zdUieNGm5OAh"
      },
      "execution_count": 61,
      "outputs": []
    },
    {
      "cell_type": "markdown",
      "source": [
        "# Building NMF"
      ],
      "metadata": {
        "id": "Whkvdc9g5YCC"
      }
    },
    {
      "cell_type": "markdown",
      "source": [
        "After we get the matrix representation of the TF-IDF, we're set to go to the second step using Non-Negative Matrix Factorization."
      ],
      "metadata": {
        "id": "Qu0pGcyHVIMB"
      }
    },
    {
      "cell_type": "code",
      "source": [
        "from sklearn.decomposition import NMF"
      ],
      "metadata": {
        "id": "hZIIibo7lusa"
      },
      "execution_count": 62,
      "outputs": []
    },
    {
      "cell_type": "code",
      "source": [
        "# Let's try 30 n_components\n",
        "# The n_components represent the number of topics.\n",
        "nmf_model = NMF(n_components=30, random_state=42)"
      ],
      "metadata": {
        "id": "AKVSQDU65XqA"
      },
      "execution_count": 63,
      "outputs": []
    },
    {
      "cell_type": "code",
      "source": [
        "# Fitting the NMF model to the dtm\n",
        "nmf_model.fit(dtm)"
      ],
      "metadata": {
        "colab": {
          "base_uri": "https://localhost:8080/"
        },
        "id": "TDuv-qnl7Ncb",
        "outputId": "52e03b3c-ee46-43a0-f1c2-f8abbb7c927e"
      },
      "execution_count": 64,
      "outputs": [
        {
          "output_type": "stream",
          "name": "stderr",
          "text": [
            "/usr/local/lib/python3.7/dist-packages/sklearn/decomposition/_nmf.py:294: FutureWarning: The 'init' value, when 'init=None' and n_components is less than n_samples and n_features, will be changed from 'nndsvd' to 'nndsvda' in 1.1 (renaming of 0.26).\n",
            "  FutureWarning,\n"
          ]
        },
        {
          "output_type": "execute_result",
          "data": {
            "text/plain": [
              "NMF(n_components=30, random_state=42)"
            ]
          },
          "metadata": {},
          "execution_count": 64
        }
      ]
    },
    {
      "cell_type": "code",
      "source": [
        "# Beacuse we choose 30 n_components, the len of nmf_model.components_ should be 30\n",
        "len(nmf_model.components_)"
      ],
      "metadata": {
        "colab": {
          "base_uri": "https://localhost:8080/"
        },
        "id": "6rjtSwVu7YV0",
        "outputId": "192f9116-c34f-480b-a5db-5e60b775c034"
      },
      "execution_count": 65,
      "outputs": [
        {
          "output_type": "execute_result",
          "data": {
            "text/plain": [
              "30"
            ]
          },
          "metadata": {},
          "execution_count": 65
        }
      ]
    },
    {
      "cell_type": "code",
      "source": [
        "# Check the shape of nmf_model.components_\n",
        "nmf_model.components_.shape"
      ],
      "metadata": {
        "colab": {
          "base_uri": "https://localhost:8080/"
        },
        "id": "TnIxg6i1_sCR",
        "outputId": "a6ea9229-fbf8-47c1-b560-158a1148fcf0"
      },
      "execution_count": 66,
      "outputs": [
        {
          "output_type": "execute_result",
          "data": {
            "text/plain": [
              "(30, 29922)"
            ]
          },
          "metadata": {},
          "execution_count": 66
        }
      ]
    },
    {
      "cell_type": "code",
      "source": [
        "topic_results = nmf_model.transform(dtm)"
      ],
      "metadata": {
        "id": "Z0Eh3V9WEGHj"
      },
      "execution_count": 67,
      "outputs": []
    },
    {
      "cell_type": "code",
      "source": [
        "# Check the shape of topic_results matrix\n",
        "topic_results.shape"
      ],
      "metadata": {
        "colab": {
          "base_uri": "https://localhost:8080/"
        },
        "id": "E9UDmVaCEQKc",
        "outputId": "6af7c5b1-f560-48c9-ff84-931dac039040"
      },
      "execution_count": 68,
      "outputs": [
        {
          "output_type": "execute_result",
          "data": {
            "text/plain": [
              "(4076, 30)"
            ]
          },
          "metadata": {},
          "execution_count": 68
        }
      ]
    },
    {
      "cell_type": "code",
      "source": [
        "# Let's take a look at the first row of topic_results matrix\n",
        "topic_results[0]"
      ],
      "metadata": {
        "colab": {
          "base_uri": "https://localhost:8080/"
        },
        "id": "MdQ7fcfxEV5G",
        "outputId": "b9bccc59-6c25-4e44-e535-330d8fa78acc"
      },
      "execution_count": 69,
      "outputs": [
        {
          "output_type": "execute_result",
          "data": {
            "text/plain": [
              "array([0.01935892, 0.        , 0.        , 0.00095875, 0.00696324,\n",
              "       0.        , 0.13735303, 0.        , 0.01809424, 0.        ,\n",
              "       0.00061374, 0.        , 0.00031728, 0.        , 0.0095273 ,\n",
              "       0.01216267, 0.        , 0.00077774, 0.0112343 , 0.        ,\n",
              "       0.        , 0.        , 0.00095646, 0.        , 0.00550749,\n",
              "       0.        , 0.        , 0.        , 0.00036116, 0.        ])"
            ]
          },
          "metadata": {},
          "execution_count": 69
        }
      ]
    },
    {
      "cell_type": "markdown",
      "source": [
        "# The Recommender Function (Cosine Function)"
      ],
      "metadata": {
        "id": "aI4vrNFwXbd3"
      }
    },
    {
      "cell_type": "markdown",
      "source": [
        "Finally, we've reached the final step. Applying the recommender function to get the recommendations (top n texts related to the given text).\n",
        "\n",
        "I use the cosine function because in mathematics, the cosine function can be used to calculate the difference in angle between two vectors.\n",
        "\n",
        "The value of cosine function is between 0 and 1, where 0 means the two vectors very dissimilar and 1 means the two vectors very similar.\n",
        "\n",
        "In general, the cosine function in $\\mathbb{R}^2$ between vector $a$ and $b$ is defined as below:\n",
        "\n",
        "\\begin{align}\n",
        "    cos (\\theta) = \\frac{a \\cdot b}{||a|| ||b||}\n",
        "\\end{align}"
      ],
      "metadata": {
        "id": "1ixGVfpUXhqE"
      }
    },
    {
      "cell_type": "code",
      "source": [
        "# Let's normalize all of the text vector\n",
        "norm_topic_results = normalize(topic_results)"
      ],
      "metadata": {
        "id": "b70i5-W7FxEI"
      },
      "execution_count": 70,
      "outputs": []
    },
    {
      "cell_type": "code",
      "source": [
        "# Create a new dataframe consisted of norm_topic_results and article text\n",
        "new_data = pd.DataFrame(norm_topic_results, data['Article text'])"
      ],
      "metadata": {
        "id": "LDYhFfE0GvXb"
      },
      "execution_count": 71,
      "outputs": []
    },
    {
      "cell_type": "code",
      "source": [
        "new_data = new_data.reset_index()"
      ],
      "metadata": {
        "id": "MGTUe7Q0JBmY"
      },
      "execution_count": 72,
      "outputs": []
    },
    {
      "cell_type": "code",
      "source": [
        "new_data.head()"
      ],
      "metadata": {
        "colab": {
          "base_uri": "https://localhost:8080/",
          "height": 0
        },
        "id": "2DGY4Ec-IZ9s",
        "outputId": "27022756-8671-4bab-9f3c-bc924cea61b3"
      },
      "execution_count": 73,
      "outputs": [
        {
          "output_type": "execute_result",
          "data": {
            "text/plain": [
              "                                        Article text         0    1    2  \\\n",
              "0   (CNN)Right now, there's a shortage of truck d...  0.136838  0.0  0.0   \n",
              "1   (CNN)Working in a factory or warehouse can me...  0.175583  0.0  0.0   \n",
              "2   (CNN)In a Hong Kong warehouse, a swarm of aut...  0.107858  0.0  0.0   \n",
              "3  New York (CNN Business)For many years, the wor...  0.113347  0.0  0.0   \n",
              "4  The European Union formally approved on Tuesda...  0.000000  0.0  0.0   \n",
              "\n",
              "          3         4    5         6    7         8  ...        20   21  \\\n",
              "0  0.006777  0.049219  0.0  0.970873  0.0  0.127898  ...  0.000000  0.0   \n",
              "1  0.017456  0.075632  0.0  0.974493  0.0  0.000000  ...  0.012342  0.0   \n",
              "2  0.009095  0.009227  0.0  0.986812  0.0  0.000000  ...  0.018001  0.0   \n",
              "3  0.000000  0.000000  0.0  0.000000  0.0  0.000000  ...  0.000000  0.0   \n",
              "4  0.000000  0.000000  0.0  0.000000  0.0  0.000000  ...  0.000000  0.0   \n",
              "\n",
              "         22   23        24   25   26   27        28        29  \n",
              "0  0.006761  0.0  0.038929  0.0  0.0  0.0  0.002553  0.000000  \n",
              "1  0.025617  0.0  0.000000  0.0  0.0  0.0  0.024106  0.033406  \n",
              "2  0.000000  0.0  0.005872  0.0  0.0  0.0  0.000000  0.012867  \n",
              "3  0.978112  0.0  0.054598  0.0  0.0  0.0  0.080647  0.000000  \n",
              "4  0.885083  0.0  0.003234  0.0  0.0  0.0  0.000000  0.000000  \n",
              "\n",
              "[5 rows x 31 columns]"
            ],
            "text/html": [
              "\n",
              "  <div id=\"df-9b778bd3-1e85-4411-9758-fcfccc5fd0ec\">\n",
              "    <div class=\"colab-df-container\">\n",
              "      <div>\n",
              "<style scoped>\n",
              "    .dataframe tbody tr th:only-of-type {\n",
              "        vertical-align: middle;\n",
              "    }\n",
              "\n",
              "    .dataframe tbody tr th {\n",
              "        vertical-align: top;\n",
              "    }\n",
              "\n",
              "    .dataframe thead th {\n",
              "        text-align: right;\n",
              "    }\n",
              "</style>\n",
              "<table border=\"1\" class=\"dataframe\">\n",
              "  <thead>\n",
              "    <tr style=\"text-align: right;\">\n",
              "      <th></th>\n",
              "      <th>Article text</th>\n",
              "      <th>0</th>\n",
              "      <th>1</th>\n",
              "      <th>2</th>\n",
              "      <th>3</th>\n",
              "      <th>4</th>\n",
              "      <th>5</th>\n",
              "      <th>6</th>\n",
              "      <th>7</th>\n",
              "      <th>8</th>\n",
              "      <th>...</th>\n",
              "      <th>20</th>\n",
              "      <th>21</th>\n",
              "      <th>22</th>\n",
              "      <th>23</th>\n",
              "      <th>24</th>\n",
              "      <th>25</th>\n",
              "      <th>26</th>\n",
              "      <th>27</th>\n",
              "      <th>28</th>\n",
              "      <th>29</th>\n",
              "    </tr>\n",
              "  </thead>\n",
              "  <tbody>\n",
              "    <tr>\n",
              "      <th>0</th>\n",
              "      <td>(CNN)Right now, there's a shortage of truck d...</td>\n",
              "      <td>0.136838</td>\n",
              "      <td>0.0</td>\n",
              "      <td>0.0</td>\n",
              "      <td>0.006777</td>\n",
              "      <td>0.049219</td>\n",
              "      <td>0.0</td>\n",
              "      <td>0.970873</td>\n",
              "      <td>0.0</td>\n",
              "      <td>0.127898</td>\n",
              "      <td>...</td>\n",
              "      <td>0.000000</td>\n",
              "      <td>0.0</td>\n",
              "      <td>0.006761</td>\n",
              "      <td>0.0</td>\n",
              "      <td>0.038929</td>\n",
              "      <td>0.0</td>\n",
              "      <td>0.0</td>\n",
              "      <td>0.0</td>\n",
              "      <td>0.002553</td>\n",
              "      <td>0.000000</td>\n",
              "    </tr>\n",
              "    <tr>\n",
              "      <th>1</th>\n",
              "      <td>(CNN)Working in a factory or warehouse can me...</td>\n",
              "      <td>0.175583</td>\n",
              "      <td>0.0</td>\n",
              "      <td>0.0</td>\n",
              "      <td>0.017456</td>\n",
              "      <td>0.075632</td>\n",
              "      <td>0.0</td>\n",
              "      <td>0.974493</td>\n",
              "      <td>0.0</td>\n",
              "      <td>0.000000</td>\n",
              "      <td>...</td>\n",
              "      <td>0.012342</td>\n",
              "      <td>0.0</td>\n",
              "      <td>0.025617</td>\n",
              "      <td>0.0</td>\n",
              "      <td>0.000000</td>\n",
              "      <td>0.0</td>\n",
              "      <td>0.0</td>\n",
              "      <td>0.0</td>\n",
              "      <td>0.024106</td>\n",
              "      <td>0.033406</td>\n",
              "    </tr>\n",
              "    <tr>\n",
              "      <th>2</th>\n",
              "      <td>(CNN)In a Hong Kong warehouse, a swarm of aut...</td>\n",
              "      <td>0.107858</td>\n",
              "      <td>0.0</td>\n",
              "      <td>0.0</td>\n",
              "      <td>0.009095</td>\n",
              "      <td>0.009227</td>\n",
              "      <td>0.0</td>\n",
              "      <td>0.986812</td>\n",
              "      <td>0.0</td>\n",
              "      <td>0.000000</td>\n",
              "      <td>...</td>\n",
              "      <td>0.018001</td>\n",
              "      <td>0.0</td>\n",
              "      <td>0.000000</td>\n",
              "      <td>0.0</td>\n",
              "      <td>0.005872</td>\n",
              "      <td>0.0</td>\n",
              "      <td>0.0</td>\n",
              "      <td>0.0</td>\n",
              "      <td>0.000000</td>\n",
              "      <td>0.012867</td>\n",
              "    </tr>\n",
              "    <tr>\n",
              "      <th>3</th>\n",
              "      <td>New York (CNN Business)For many years, the wor...</td>\n",
              "      <td>0.113347</td>\n",
              "      <td>0.0</td>\n",
              "      <td>0.0</td>\n",
              "      <td>0.000000</td>\n",
              "      <td>0.000000</td>\n",
              "      <td>0.0</td>\n",
              "      <td>0.000000</td>\n",
              "      <td>0.0</td>\n",
              "      <td>0.000000</td>\n",
              "      <td>...</td>\n",
              "      <td>0.000000</td>\n",
              "      <td>0.0</td>\n",
              "      <td>0.978112</td>\n",
              "      <td>0.0</td>\n",
              "      <td>0.054598</td>\n",
              "      <td>0.0</td>\n",
              "      <td>0.0</td>\n",
              "      <td>0.0</td>\n",
              "      <td>0.080647</td>\n",
              "      <td>0.000000</td>\n",
              "    </tr>\n",
              "    <tr>\n",
              "      <th>4</th>\n",
              "      <td>The European Union formally approved on Tuesda...</td>\n",
              "      <td>0.000000</td>\n",
              "      <td>0.0</td>\n",
              "      <td>0.0</td>\n",
              "      <td>0.000000</td>\n",
              "      <td>0.000000</td>\n",
              "      <td>0.0</td>\n",
              "      <td>0.000000</td>\n",
              "      <td>0.0</td>\n",
              "      <td>0.000000</td>\n",
              "      <td>...</td>\n",
              "      <td>0.000000</td>\n",
              "      <td>0.0</td>\n",
              "      <td>0.885083</td>\n",
              "      <td>0.0</td>\n",
              "      <td>0.003234</td>\n",
              "      <td>0.0</td>\n",
              "      <td>0.0</td>\n",
              "      <td>0.0</td>\n",
              "      <td>0.000000</td>\n",
              "      <td>0.000000</td>\n",
              "    </tr>\n",
              "  </tbody>\n",
              "</table>\n",
              "<p>5 rows × 31 columns</p>\n",
              "</div>\n",
              "      <button class=\"colab-df-convert\" onclick=\"convertToInteractive('df-9b778bd3-1e85-4411-9758-fcfccc5fd0ec')\"\n",
              "              title=\"Convert this dataframe to an interactive table.\"\n",
              "              style=\"display:none;\">\n",
              "        \n",
              "  <svg xmlns=\"http://www.w3.org/2000/svg\" height=\"24px\"viewBox=\"0 0 24 24\"\n",
              "       width=\"24px\">\n",
              "    <path d=\"M0 0h24v24H0V0z\" fill=\"none\"/>\n",
              "    <path d=\"M18.56 5.44l.94 2.06.94-2.06 2.06-.94-2.06-.94-.94-2.06-.94 2.06-2.06.94zm-11 1L8.5 8.5l.94-2.06 2.06-.94-2.06-.94L8.5 2.5l-.94 2.06-2.06.94zm10 10l.94 2.06.94-2.06 2.06-.94-2.06-.94-.94-2.06-.94 2.06-2.06.94z\"/><path d=\"M17.41 7.96l-1.37-1.37c-.4-.4-.92-.59-1.43-.59-.52 0-1.04.2-1.43.59L10.3 9.45l-7.72 7.72c-.78.78-.78 2.05 0 2.83L4 21.41c.39.39.9.59 1.41.59.51 0 1.02-.2 1.41-.59l7.78-7.78 2.81-2.81c.8-.78.8-2.07 0-2.86zM5.41 20L4 18.59l7.72-7.72 1.47 1.35L5.41 20z\"/>\n",
              "  </svg>\n",
              "      </button>\n",
              "      \n",
              "  <style>\n",
              "    .colab-df-container {\n",
              "      display:flex;\n",
              "      flex-wrap:wrap;\n",
              "      gap: 12px;\n",
              "    }\n",
              "\n",
              "    .colab-df-convert {\n",
              "      background-color: #E8F0FE;\n",
              "      border: none;\n",
              "      border-radius: 50%;\n",
              "      cursor: pointer;\n",
              "      display: none;\n",
              "      fill: #1967D2;\n",
              "      height: 32px;\n",
              "      padding: 0 0 0 0;\n",
              "      width: 32px;\n",
              "    }\n",
              "\n",
              "    .colab-df-convert:hover {\n",
              "      background-color: #E2EBFA;\n",
              "      box-shadow: 0px 1px 2px rgba(60, 64, 67, 0.3), 0px 1px 3px 1px rgba(60, 64, 67, 0.15);\n",
              "      fill: #174EA6;\n",
              "    }\n",
              "\n",
              "    [theme=dark] .colab-df-convert {\n",
              "      background-color: #3B4455;\n",
              "      fill: #D2E3FC;\n",
              "    }\n",
              "\n",
              "    [theme=dark] .colab-df-convert:hover {\n",
              "      background-color: #434B5C;\n",
              "      box-shadow: 0px 1px 3px 1px rgba(0, 0, 0, 0.15);\n",
              "      filter: drop-shadow(0px 1px 2px rgba(0, 0, 0, 0.3));\n",
              "      fill: #FFFFFF;\n",
              "    }\n",
              "  </style>\n",
              "\n",
              "      <script>\n",
              "        const buttonEl =\n",
              "          document.querySelector('#df-9b778bd3-1e85-4411-9758-fcfccc5fd0ec button.colab-df-convert');\n",
              "        buttonEl.style.display =\n",
              "          google.colab.kernel.accessAllowed ? 'block' : 'none';\n",
              "\n",
              "        async function convertToInteractive(key) {\n",
              "          const element = document.querySelector('#df-9b778bd3-1e85-4411-9758-fcfccc5fd0ec');\n",
              "          const dataTable =\n",
              "            await google.colab.kernel.invokeFunction('convertToInteractive',\n",
              "                                                     [key], {});\n",
              "          if (!dataTable) return;\n",
              "\n",
              "          const docLinkHtml = 'Like what you see? Visit the ' +\n",
              "            '<a target=\"_blank\" href=https://colab.research.google.com/notebooks/data_table.ipynb>data table notebook</a>'\n",
              "            + ' to learn more about interactive tables.';\n",
              "          element.innerHTML = '';\n",
              "          dataTable['output_type'] = 'display_data';\n",
              "          await google.colab.output.renderOutput(dataTable, element);\n",
              "          const docLink = document.createElement('div');\n",
              "          docLink.innerHTML = docLinkHtml;\n",
              "          element.appendChild(docLink);\n",
              "        }\n",
              "      </script>\n",
              "    </div>\n",
              "  </div>\n",
              "  "
            ]
          },
          "metadata": {},
          "execution_count": 73
        }
      ]
    },
    {
      "cell_type": "markdown",
      "source": [
        "# Recommended Article to the 24th Article\n",
        "\n"
      ],
      "metadata": {
        "id": "r7_BbMnYMQ2d"
      }
    },
    {
      "cell_type": "markdown",
      "source": [
        "Let's take the 24th article as an example"
      ],
      "metadata": {
        "id": "RxuGVYssrPjA"
      }
    },
    {
      "cell_type": "code",
      "source": [
        "current_article = new_data.iloc[23]"
      ],
      "metadata": {
        "id": "2Idg-q5YMQbL"
      },
      "execution_count": 74,
      "outputs": []
    },
    {
      "cell_type": "code",
      "source": [
        "similarities = new_data.iloc[:, 1:].dot(current_article[1:])"
      ],
      "metadata": {
        "id": "Cz_XT9U2MayZ"
      },
      "execution_count": 75,
      "outputs": []
    },
    {
      "cell_type": "code",
      "source": [
        "similarities"
      ],
      "metadata": {
        "colab": {
          "base_uri": "https://localhost:8080/"
        },
        "id": "HxIOzebGoeS4",
        "outputId": "afbda182-4bdb-4bfb-a24c-a0eaec34a324"
      },
      "execution_count": 76,
      "outputs": [
        {
          "output_type": "execute_result",
          "data": {
            "text/plain": [
              "0       0.046164\n",
              "1       0.053188\n",
              "2       0.018246\n",
              "3       0.401133\n",
              "4       0.363969\n",
              "          ...   \n",
              "4071    0.009264\n",
              "4072    0.036092\n",
              "4073    0.052112\n",
              "4074    0.290127\n",
              "4075    0.075692\n",
              "Length: 4076, dtype: object"
            ]
          },
          "metadata": {},
          "execution_count": 76
        }
      ]
    },
    {
      "cell_type": "code",
      "source": [
        "print(similarities.astype(float).nlargest(6).iloc[1:])"
      ],
      "metadata": {
        "colab": {
          "base_uri": "https://localhost:8080/"
        },
        "id": "MynUAdQvMixr",
        "outputId": "079bdc07-5dc4-43ff-ddda-dbbebc579949"
      },
      "execution_count": 77,
      "outputs": [
        {
          "output_type": "stream",
          "name": "stdout",
          "text": [
            "163     0.908235\n",
            "189     0.900680\n",
            "423     0.899432\n",
            "3033    0.897820\n",
            "428     0.893899\n",
            "dtype: float64\n"
          ]
        }
      ]
    },
    {
      "cell_type": "code",
      "source": [
        "new_data.iloc[163]['Article text']"
      ],
      "metadata": {
        "colab": {
          "base_uri": "https://localhost:8080/",
          "height": 0
        },
        "id": "hMHxk4CgMnRp",
        "outputId": "941d9702-bd46-4dd7-b5aa-2a45424131da"
      },
      "execution_count": 78,
      "outputs": [
        {
          "output_type": "execute_result",
          "data": {
            "text/plain": [
              "'Washington (CNN)When President Joe Biden passingly said in a voting rights speech last week that he had been \"arrested\" in the context of the civil rights movement -- even suggesting this had happened more than once -- it was a classic Biden false claim: an anecdote about his past for which there is no evidence, prompted by a decision to ad-lib rather than stick to a prepared text, resulting in easily avoidable questions about his honesty.   Biden\\'s imaginary or embellished stories about his own history were the most memorable falsehoods of his first year in office. They were not, however, the only ones. The President also made multiple false claims about important policy matters, notably including three subjects that occupied much of his time: the US withdrawal from Afghanistan, the economy and the Covid-19 pandemic. And Biden was incorrect on numerous occasions when ad-libbing about a wide assortment of facts and figures -- sometimes in a way that appeared inadvertent, but other times in a way that helped him make a political point.   Unlike his uniquely dishonest predecessor, Biden did not bury fact-checkers in a daily avalanche of serial falseness. Biden never came close to making a dozen false claims in a single speech, let alone five dozen false claims in one address, as Trump once did. In fact, the total number of Biden false claims so far is in the dozens, while Trump delivered well over 1,000 total false claims in his own first year and more than 3,000 the next year. Read MoreSo Biden is no Trump. With that said, dozens of false claims from the President of the United States is not nothing. And considering that Biden added dozens more claims that were misleading or lacking in important context, he provided more than enough material to keep fact-checkers on their toes. Here is a roundup of Biden\\'s first year in inaccuracy. The White House declined to comment for this article; it has previously commented for individual fact checks on some of the false claims we are discussing again below.False claims about his own pastBiden made a series of claims about his own past that were just not true. It was these easy-to-understand, hard-to-defend personal falsehoods -- more than his false claims about complex policy issues or obscure statistics, which supporters could more easily dismiss as good-faith errors -- that provided the best ammunition for opponents looking to portray him as deceptive.And like some of Trump\\'s tall tales about his past, Biden\\'s tended to be peripheral to his message. In other words, he was hurting his reputation for little possible gain.While talking in November to technical college students standing near a truck, Biden claimed, \"I used to drive a tractor-trailer,\" though only for \"part of a summer.\" This was similar to something he had said at a Mack Trucks facility in July, when he claimed, \"I used to drive an 18-wheeler, man,\" adding, \"I got to.\" There is no evidence Biden ever drove a big truck; the White House previously noted to CNN that he once had a job driving a school bus (which is not an 18-wheeler or a tractor-trailer) and that, as a senator in 1973, he spent a night riding in a cargo truck (not driving it).Biden repeatedly told a story about a supposed conversation during his vice presidency with an old friend, an Amtrak train conductor, that could not possibly have happened because the man was dead at the time. He repeatedly boasted that he had traveled \"17,000 miles\" with Chinese President Xi Jinping, though that number is not even close to correct.Biden distracted from his voting rights message with the baseless claim last week, which he had made before, about having been arrested during a civil rights protest; in some of the previous versions of the story, he had merely claimed a police officer had taken him home from a protest. (There is evidence Biden participated in some civil rights activities in his youth but no record of any arrest.) And Biden told two different inaccurate stories while trying to emphasize his connection to the Jewish community. The 7 most important lines from Joe Biden\\'s news conferenceAt a September event in honor of the High Holy Days, Biden told Jewish leaders that he remembered \"spending time at\" and \"going to\" Pittsburgh\\'s Tree of Life synagogue, the site of an antisemitic massacre in 2018; he had spoken by phone to the synagogue\\'s rabbi in 2019 but never went. At a Hanukkah event in December, Biden claimed that late Israeli Prime Minister Golda Meir had invited him to meet with her during the Six-Day War of 1967 (he actually met with her weeks before the Yom Kippur War six years later) and, more significantly, that she had wanted him to be \"the liaison between she and the Egyptians about the Suez, and so on and so forth.\" There is zero evidence Meir ever wanted to use a 30-year-old rookie US senator as a \"liaison\" with a major adversary. False claims about AfghanistanBiden was bedeviled over the summer by his chaotic withdrawal of US troops from Afghanistan. And he made a variety of false claims as he tried to defend his handling of the situation -- further undermining his authority on an issue on which he was already struggling to persuade the public.In August, the President said, \"What interest do we have in Afghanistan at this point, with al Qaeda gone?\" Al Qaeda had been degraded in Afghanistan, but it wasn\\'t \"gone\" -- as a Pentagon spokesman acknowledged on camera that same day. In an interview that week, Biden defended the US withdrawal in part by claiming that the concept of nation-building in Afghanistan \"never made any sense to me\" -- though, in fact, he had explicitly advocated nation-building in the early years of the war, both in Afghanistan and more broadly.In July, when Biden was under pressure to quickly relocate Afghans who had assisted US troops, he said \"the law doesn\\'t allow\" Afghan translators to come to the US to await the processing of their visa applications. But experts in immigration law immediately said this wasn\\'t true, given the administration\\'s authority to grant \"parole,\" and, indeed, the Biden administration ended up using parole later in the summer to do what Biden had claimed wasn\\'t permitted. In December, Biden said in another interview that \"I\\'ve been against that war in Afghanistan from the very beginning.\" While he eventually grew opposed to the war, he was not against it from the start -- as fact-checkers pointed out when he had made similar remarks during his presidential campaign.  False claims about the economyThe state of the economy was a key rhetorical battleground between Biden and his critics: He argued it was thriving; they argued it was failing. And although both sides often cited valid data points, the President also made some false claims to bolster his case.Biden occasionally overstated progress and understated problems. Asked at a CNN town hall in July about inflation in automobile prices, he claimed that the cost of a car was \"kind of back to what it was before the pandemic\"; the cost had actually increased substantially since late 2019 and early 2020. In an economic speech in November, he greatly exaggerated the extent of the decline in the unemployment rate during his tenure.To try to sell his economic policies, Biden sometimes made inaccurate statements about what experts had said about them. In May alone, he falsely claimed that there was a consensus among economists about how many jobs his American Jobs Plan would create, significantly overstated how many jobs the firm Moody\\'s Analytics in particular predicted the plan would create and falsely claimed that the last five leaders of the Federal Reserve had said the plan would produce economic growth -- wrongly describing both the contents and the authorship of an article that was actually written by five former Internal Revenue Service chiefs. Later in the year, Biden misleadingly framed another Moody\\'s jobs estimate. And he repeatedly omitted the key phrase \"longer-term\" from an assertion by Nobel-winning economists that his $1.9 trillion Build Back Better agenda would \"ease longer-term inflationary pressures\" -- leaving Americans to believe that these economists might have said his agenda would reduce the inflation hurting their bank accounts today.False claims about the Covid-19 pandemicMany of Biden\\'s first-year speeches were devoted to the Covid-19 pandemic. Biden was almost incomparably more accurate on this subject than Trump was, tending to factually convey the severity of the situation rather than match his predecessor\\'s fantastical rhetoric about how bad numbers were not actually bad numbers and how the virus would just disappear. But Biden made a smattering of false claims on this topic, too.At the CNN town hall in July, Biden made the inaccurate categorical promise that \"you\\'re not going to get Covid\" if you\\'re vaccinated. It was clear even before the emergence of the Omicron variant that vaccinated people were still getting infected with the virus, though the vaccines made them much less likely to get seriously ill; vaccinated people on the President\\'s own staff had been infected. Biden also went too far at the town hall when he categorically pledged that \"if you\\'re vaccinated, you\\'re not going to be hospitalized, you\\'re not going to be in the ICU unit and you\\'re not going to die\"; these outcomes happen, too, though they are much less common among vaccinated people. Biden sometimes exaggerated on the subject of his administration\\'s work to get Americans vaccinated -- misleadingly playing down the Trump administration\\'s own vaccine purchases and, in May, overstating how the US vaccination rate compared with those of the rest of the world. And he made various errors in discussing pandemic-related facts and figures.In February, Biden claimed that \"suicides are up\" amid the pandemic; experts said at the time that the claim was premature, and it turned out to be wrong (though suicide rates did increase for some specific demographic groups). In October, the President wrongly told Americans that there were \"over 800,000\" vaccination sites in the country; he had added an extra 0 to the correct figure he usually used, 80,000.False claims in unscripted settingsWhen Biden stuck to prepared speeches vetted by his staff, he tended to be factual (though certainly wasn\\'t perfect). When he ad-libbed or participated in unscripted exchanges with journalists and citizens, he was more likely to sprinkle in inaccuracies -- making false or misleading claims about everything from his handling of the situation at the southern border to Virginia political history to gun laws to the size of a tax break for people who own racehorses.During Biden\\'s first 100 days in the Oval Office, he was repeatedly incorrect or misleading in describing the actions of the Trump administration. And he made one particularly notable misleading claim during that early period. At a heated moment of the national debate over Georgia Republicans\\' new elections law, Biden did a television interview in which he criticized the law in part by misstating what it says.'"
            ],
            "application/vnd.google.colaboratory.intrinsic+json": {
              "type": "string"
            }
          },
          "metadata": {},
          "execution_count": 78
        }
      ]
    },
    {
      "cell_type": "code",
      "source": [
        "new_data.iloc[23]['Article text']"
      ],
      "metadata": {
        "colab": {
          "base_uri": "https://localhost:8080/",
          "height": 0
        },
        "id": "-cF4IQBkMt0n",
        "outputId": "708f5036-06ee-47a7-c76d-1b123d8fdaaf"
      },
      "execution_count": 79,
      "outputs": [
        {
          "output_type": "execute_result",
          "data": {
            "text/plain": [
              "'New York (CNN Business)President Joe Biden planned to reshape the Federal Reserve through his nominations for the three vacant seats on the board of governors. But Democratic Sen. Joe Manchin of West Virginia threw a wrench into those plans Monday.The crux of the matter is the nomination of Sarah Bloom Raskin, a former deputy Treasury secretary and a governor of the Federal Reserve Board during the Obama administration, who is facing opposition in a divided Senate.Raskin\\'s stance on environmental issues, including her view on the transition away from fossil fuels, are colliding with soaring gas prices and a renewed debate about oil independence in the face of the Russia-Ukraine conflict.\"Her previous public statements have failed to satisfactorily address my concerns about the critical importance of financing an all-of-the-above energy policy to meet our nation\\'s critical energy needs,\" Manchin said in a statement on Monday announcing his opposition to Raskin\\'s nomination. Manchin is not a member of the Senate Banking Committee that will be voting on Raskin\\'s candidacy.The US Chamber of Commerce already voiced concern over her nomination to be the vice chair of supervision -- essentially the Fed\\'s top banking regulator -- in January. And a month ago, Senate Republicans boycotted a vote in protest of Raskin\\'s nomination, halting a slate of pending nominees for the central bank.Read MoreThe renomination of Fed Chairman Jerome Powell for another term is also stalled. Even though Powell is enjoying support on both sides of the aisle, he hasn\\'t been fully confirmed yet, leaving him with the title add-on \"pro tempore\" for now.All this comes at a time when Fed policy has taken center stage amid rampant inflation. Consumer prices haven\\'t risen at this fast a pace since 1982.The central bank is expected to raise interest rates by a quarter-percentage point this week in an effort to curb demand and bring prices under control.Meanwhile, the White House continued to stand behind Raskin\\'s nomination. Biden has pledged to make the Fed more diverse in terms of both its gender and racial make up. The president also nominated Philip Jefferson and Lisa Cook to join the central bank. Cook would be the first Black woman to serve at the Fed in its history.\"Sarah Bloom Raskin is one of the most qualified people to have ever been nominated for the Federal Reserve Board of Governors -- she previously served on the Board and she served as second-in-command at Treasury, both positions where she earned bipartisan Senate confirmation,\" a White House official said.The administration was working to line up bipartisan support for her confirmation, the official added, calling the adversity surrounding her nomination an \"unprecedented, baseless campaign led by oil and gas companies.\"CNN\\'s Manu Raju and Phil Mattingly contributed to this report.'"
            ],
            "application/vnd.google.colaboratory.intrinsic+json": {
              "type": "string"
            }
          },
          "metadata": {},
          "execution_count": 79
        }
      ]
    },
    {
      "cell_type": "markdown",
      "source": [
        "# Implementation"
      ],
      "metadata": {
        "id": "ZH_yKdJkioSd"
      }
    },
    {
      "cell_type": "markdown",
      "source": [
        "Let's implement the recommender system so it can receive input from user (index of the current article) and output the top 5 recommended articles related to the current article."
      ],
      "metadata": {
        "id": "7osOIxyXmrBH"
      }
    },
    {
      "cell_type": "code",
      "source": [
        "index = int(input('Please enter the index number of the article that you currently read: '))\n",
        "current_article = new_data.iloc[index]\n",
        "similarities = new_data.iloc[:, 1:].dot(current_article[1:])\n",
        "print(' ')\n",
        "print(f'The top 5 articles related to the article number {index} are: \\n')\n",
        "print('Index   Similarity Score')\n",
        "print(similarities.astype(float).nlargest(6).iloc[1:])"
      ],
      "metadata": {
        "colab": {
          "base_uri": "https://localhost:8080/"
        },
        "id": "KBxuAj3xisTp",
        "outputId": "dd65285b-84d9-43d4-cb35-7f46d5cd9992"
      },
      "execution_count": 80,
      "outputs": [
        {
          "output_type": "stream",
          "name": "stdout",
          "text": [
            "Please enter the index number of the article that you currently read: 23\n",
            " \n",
            "The top 5 articles related to the article number 23 are: \n",
            "\n",
            "Index   Similarity Score\n",
            "163     0.908235\n",
            "189     0.900680\n",
            "423     0.899432\n",
            "3033    0.897820\n",
            "428     0.893899\n",
            "dtype: float64\n"
          ]
        }
      ]
    },
    {
      "cell_type": "markdown",
      "source": [
        "# Voila!"
      ],
      "metadata": {
        "id": "8mBxubLgzggt"
      }
    }
  ]
}